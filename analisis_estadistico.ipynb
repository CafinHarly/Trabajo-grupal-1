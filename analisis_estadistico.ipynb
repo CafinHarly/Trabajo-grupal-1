{
 "cells": [
  {
   "cell_type": "markdown",
   "id": "6a49d5ae",
   "metadata": {},
   "source": [
    "Abriendo el archivo con ayuda de pandas"
   ]
  },
  {
   "cell_type": "code",
   "execution_count": null,
   "id": "a6662fab",
   "metadata": {},
   "outputs": [],
   "source": [
    "import pandas as pd\n",
    "\n",
    "\n",
    "url = \"https://raw.githubusercontent.com/RaulAM22/TED-XD/refs/heads/main/paises1957.csv\"\n",
    "df = pd.read_csv(url) # La variable df almacena la tabla csv"
   ]
  },
  {
   "cell_type": "markdown",
   "id": "0926348e",
   "metadata": {},
   "source": [
    "Filtrar filas por tipos de variables"
   ]
  },
  {
   "cell_type": "code",
   "execution_count": null,
   "id": "0aad49af",
   "metadata": {},
   "outputs": [
    {
     "name": "stdout",
     "output_type": "stream",
     "text": [
      "📊 Cuantitativas: ['Unnamed: 0', 'anio', 'esperanza_de_vida', 'poblacion', 'pib_per_capita']\n",
      "🏷️ Cualitativas: ['pais', 'continente']\n"
     ]
    }
   ],
   "source": [
    "cuantis = df.select_dtypes(include=['float64', 'int64']).columns.tolist() #Filtra los nombres de las columnas con variables cuantitativas\n",
    "cualis = df.select_dtypes(include=['object', 'category']).columns.tolist() #Filtra los nombres de las columnas con variables cualitativas\n",
    "\n",
    "print(\"📊 Cuantitativas:\", cuantis)\n",
    "print(\"🏷️ Cualitativas:\", cualis)\n"
   ]
  },
  {
   "cell_type": "markdown",
   "id": "894ac162",
   "metadata": {},
   "source": [
    "Separar el dataframe por tipo de variable"
   ]
  },
  {
   "cell_type": "code",
   "execution_count": null,
   "id": "545f363b",
   "metadata": {},
   "outputs": [],
   "source": [
    "# Subconjunto con las variables cuantitativas\n",
    "df_cuantitativas = df[cuantis]\n",
    "\n",
    "\n",
    "# Subconjunto con las variables cualitativas\n",
    "df_cualitativas = df[cualis]"
   ]
  }
 ],
 "metadata": {
  "kernelspec": {
   "display_name": "Python 3",
   "language": "python",
   "name": "python3"
  },
  "language_info": {
   "codemirror_mode": {
    "name": "ipython",
    "version": 3
   },
   "file_extension": ".py",
   "mimetype": "text/x-python",
   "name": "python",
   "nbconvert_exporter": "python",
   "pygments_lexer": "ipython3",
   "version": "3.13.3"
  }
 },
 "nbformat": 4,
 "nbformat_minor": 5
}
