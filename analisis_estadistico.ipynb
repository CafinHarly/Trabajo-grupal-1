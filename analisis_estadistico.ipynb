{
 "cells": [
  {
   "cell_type": "markdown",
   "id": "6a49d5ae",
   "metadata": {},
   "source": [
    "Abriendo el archivo con ayuda de pandas"
   ]
  },
  {
   "cell_type": "code",
<<<<<<< HEAD
   "execution_count": null,
=======
   "execution_count": 16,
>>>>>>> 84678be90e01814e19655a04d94af97fff18ac52
   "id": "a6662fab",
   "metadata": {},
   "outputs": [],
   "source": [
    "import pandas as pd\n",
    "import matplotlib.pyplot as plt\n",
    "\n",
    "url = \"https://raw.githubusercontent.com/RaulAM22/TED-XD/refs/heads/main/paises1957.csv\"\n",
    "df = pd.read_csv(url) # La variable df almacena la tabla csv"
   ]
  },
  {
   "cell_type": "markdown",
   "id": "0926348e",
   "metadata": {},
   "source": [
    "Filtrar filas por tipos de variables"
   ]
  },
  {
   "cell_type": "code",
   "execution_count": null,
   "id": "0aad49af",
   "metadata": {},
   "outputs": [
    {
     "name": "stdout",
     "output_type": "stream",
     "text": [
      "📊 Cuantitativas: ['Unnamed: 0', 'anio', 'esperanza_de_vida', 'poblacion', 'pib_per_capita']\n",
      "🏷️ Cualitativas: ['pais', 'continente']\n"
     ]
    }
   ],
   "source": [
    "cuantis = df.select_dtypes(include=['float64', 'int64']).columns.tolist() #Filtra los nombres de las columnas con variables cuantitativas\n",
    "cualis = df.select_dtypes(include=['object', 'category']).columns.tolist() #Filtra los nombres de las columnas con variables cualitativas\n",
    "\n",
    "print(\"📊 Cuantitativas:\", cuantis)\n",
    "print(\"🏷️ Cualitativas:\", cualis)\n"
   ]
  },
  {
   "cell_type": "markdown",
   "id": "894ac162",
   "metadata": {},
   "source": [
    "Separar el dataframe por tipo de variable"
   ]
  },
  {
   "cell_type": "code",
   "execution_count": null,
   "id": "545f363b",
   "metadata": {},
   "outputs": [],
   "source": [
    "# Subconjunto con las variables cuantitativas\n",
    "df_cuantitativas = df[cuantis]\n",
    "\n",
    "\n",
    "# Subconjunto con las variables cualitativas\n",
    "df_cualitativas = df[cualis]"
   ]
<<<<<<< HEAD
=======
  },
  {
   "cell_type": "code",
   "execution_count": 7,
   "id": "1b6b567c",
   "metadata": {},
   "outputs": [],
   "source": [
    "# ----------------------------- #\n",
    "# 🧩 CLASE PADRE\n",
    "# ----------------------------- #\n",
    "class VariableEstadistica:\n",
    "    def __init__(self, df, columna):\n",
    "        self.df = df\n",
    "        self.columna = columna\n",
    "        # elimina valores nulos y los guarda como lista\n",
    "        self.datos = df[columna].dropna().tolist()\n",
    "\n",
    "\n",
    "    def cantidad(self):\n",
    "        return len(self.datos)\n",
    "\n",
    "\n",
    "    def mostrar_datos(self, n=10):\n",
    "        print(self.datos[:n])"
   ]
  },
  {
   "cell_type": "code",
   "execution_count": 17,
   "id": "c1929f5e",
   "metadata": {},
   "outputs": [],
   "source": [
    "# ----------------------------- #\n",
    "# 🔵 CLASE HIJA: CUANTITATIVA\n",
    "# ----------------------------- #\n",
    "class Cuantitativa(VariableEstadistica):\n",
    "\n",
    "\n",
    "    def media(self):\n",
    "        return sum(self.datos) / len(self.datos)\n",
    "\n",
    "\n",
    "    def mediana(self):\n",
    "        datos_ordenados = sorted(self.datos)\n",
    "        n = len(datos_ordenados)\n",
    "        mitad = n // 2\n",
    "        if n % 2 == 0:\n",
    "            return (datos_ordenados[mitad - 1] + datos_ordenados[mitad]) / 2\n",
    "        else:\n",
    "            return datos_ordenados[mitad]\n",
    "    def varianza(self):\n",
    "        media = self.media()\n",
    "        return sum((x - media) ** 2 for x in self.datos) / len(self.datos)\n",
    "\n",
    "\n",
    "    def desviacion_estandar(self):\n",
    "        return self.varianza() ** 0.5\n",
    "    \n",
    "    def rango(self):\n",
    "        return max(self.datos) - min(self.datos)\n",
    "\n",
    "    def percentiles(self, p):\n",
    "        datos_ordenados = sorted(self.datos)\n",
    "        k = (len(datos_ordenados) - 1) * (p / 100)\n",
    "        f = int(k)\n",
    "        c = k - f\n",
    "        if f + 1 < len(datos_ordenados):\n",
    "            return datos_ordenados[f] + c * (datos_ordenados[f + 1] - datos_ordenados[f])\n",
    "        else:\n",
    "            return datos_ordenados[f]\n",
    "    \n",
    "    def outliers(self):\n",
    "        q1, q3 = self.percentiles(25), self.percentiles(75)\n",
    "        iqr = q3 - q1\n",
    "        limite_inferior = q1 - 1.5 * iqr\n",
    "        limite_superior = q3 + 1.5 * iqr\n",
    "        outliers = [x for x in self.datos if x < limite_inferior or x > limite_superior]\n",
    "        return outliers\n",
    "    \n",
    "    def graficar(self):\n",
    "        plt.figure(figsize=(6,4))\n",
    "        plt.hist(self.datos, bins=10, edgecolor='black')\n",
    "        plt.title(f\"Histograma de {self.columna}\")\n",
    "        plt.xlabel(self.columna)\n",
    "        plt.ylabel(\"Frecuencia\")\n",
    "        plt.show()\n",
    "\n",
    "    def resumen(self):\n",
    "        print(f\"\\n📈 Estadísticas descriptivas para '{self.columna}':\")\n",
    "        print(f\"Media: {round(self.media(),2)}\")\n",
    "        print(f\"Mediana: {round(self.mediana(),2)}\")\n",
    "        print(f\"Varianza: {round(self.varianza(),2)}\")\n",
    "        print(f\"Desviación estándar: {round(self.desviacion_estandar(),2)}\")\n",
    "        print(f\"Rango: {round(self.rango(),2)}\")\n",
    "        print(f\"N° de valores atípicos: {len(self.outliers())}\")\n",
    "        print(f\"Percentil 25: {round(self.percentiles(25),2)}\")\n",
    "        print(f\"Percentil 75: {round(self.percentiles(75),2)}\")\n",
    "        \n",
    "    def generar_reporte(self, nombre_archivo=\"reporte.txt\"):\n",
    "        with open(nombre_archivo, \"w\", encoding=\"utf-8\") as f:\n",
    "            f.write(f\"Análisis de la variable: {self.columna}\\n\")\n",
    "            f.write(f\"Cantidad de datos: {self.cantidad()}\\n\")\n",
    "            f.write(f\"Media: {round(self.media(),2)}\\n\")\n",
    "            f.write(f\"Mediana: {round(self.mediana(),2)}\\n\")"
   ]
  },
  {
   "cell_type": "code",
   "execution_count": 9,
   "id": "5e3e43a4",
   "metadata": {},
   "outputs": [],
   "source": [
    "# ----------------------------- #\n",
    "# 🟢 CLASE HIJA: CUALITATIVA\n",
    "# ----------------------------- #\n",
    "class Cualitativa(VariableEstadistica):\n",
    "\n",
    "\n",
    "    def moda(self):\n",
    "        max_frec = 0\n",
    "        moda = None\n",
    "        for valor in self.datos:\n",
    "            frec = self.datos.count(valor)\n",
    "            if frec > max_frec:\n",
    "                max_frec = frec\n",
    "                moda = valor\n",
    "        return moda, max_frec\n",
    "\n",
    "\n",
    "    def tabla_frecuencia(self):\n",
    "        tabla = {}\n",
    "        for valor in self.datos:\n",
    "            tabla[valor] = tabla.get(valor, 0) + 1\n",
    "        total = len(self.datos)\n",
    "        print(f\"\\n📊 Tabla de frecuencias para '{self.columna}':\")\n",
    "        print(\"Valor\\t\\tFrecuencia\\tPorcentaje\")\n",
    "        for valor, frec in tabla.items():\n",
    "            porcentaje = round((frec / total) * 100, 2)\n",
    "            print(f\"{valor}\\t\\t{frec}\\t\\t{porcentaje}%\")\n",
    "            "
   ]
  },
  {
   "cell_type": "code",
   "execution_count": 10,
   "id": "2f8e04a7",
   "metadata": {},
   "outputs": [
    {
     "name": "stdout",
     "output_type": "stream",
     "text": [
      "📍 Moda: África\n",
      "🔢 Frecuencia: 52\n",
      "\n",
      "📊 Tabla de frecuencias para 'continente':\n",
      "Valor\t\tFrecuencia\tPorcentaje\n",
      "Asia\t\t33\t\t23.24%\n",
      "Europa\t\t30\t\t21.13%\n",
      "África\t\t52\t\t36.62%\n",
      "Américas\t\t25\t\t17.61%\n",
      "Oceanía\t\t2\t\t1.41%\n"
     ]
    }
   ],
   "source": [
    "# Elegir una columna cualitativa, por ejemplo \"island\"\n",
    "analisis_cuali = Cualitativa(df, \"continente\")\n",
    "\n",
    "\n",
    "# Calcular moda\n",
    "moda, frec = analisis_cuali.moda()\n",
    "print(\"📍 Moda:\", moda)\n",
    "print(\"🔢 Frecuencia:\", frec)\n",
    "\n",
    "\n",
    "# Mostrar tabla de frecuencias\n",
    "analisis_cuali.tabla_frecuencia()"
   ]
  },
  {
   "cell_type": "code",
   "execution_count": 11,
   "id": "73bd28a0",
   "metadata": {},
   "outputs": [],
   "source": [
    "def menu(df_general):\n",
    "    print(\"Variables cuantitativas:\", lista_cuantitativas)\n",
    "    print(\"Variables cualitativas:\", lista_cualitativas)\n",
    "    tipo = input(\"¿Qué tipo de variable deseas analizar? (cuantitativa/cualitativa): \")\n",
    "    col = input(\"Escribe el nombre de la columna: \")\n",
    "    if tipo == \"cuantitativa\":\n",
    "        var = Cuantitativa(df, col)\n",
    "        var.resumen()\n",
    "    elif tipo == \"cualitativa\":\n",
    "        var = Cualitativa(df, col)\n",
    "        var.tabla_frecuencia()\n",
    "    else:\n",
    "        print(\" Tipo inválido.\")"
   ]
>>>>>>> 84678be90e01814e19655a04d94af97fff18ac52
  }
 ],
 "metadata": {
  "kernelspec": {
   "display_name": "Python 3",
   "language": "python",
   "name": "python3"
  },
  "language_info": {
   "codemirror_mode": {
    "name": "ipython",
    "version": 3
   },
   "file_extension": ".py",
   "mimetype": "text/x-python",
   "name": "python",
   "nbconvert_exporter": "python",
   "pygments_lexer": "ipython3",
   "version": "3.13.3"
  }
 },
 "nbformat": 4,
 "nbformat_minor": 5
}
