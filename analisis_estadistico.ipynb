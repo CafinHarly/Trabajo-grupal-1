{
 "cells": [
  {
   "cell_type": "markdown",
   "id": "a659aec1",
   "metadata": {},
   "source": [
    "Leyendo el archivo csv (Fabricio)"
   ]
  },
  {
   "cell_type": "code",
   "execution_count": null,
   "id": "6fe4436b",
   "metadata": {},
   "outputs": [],
   "source": [
    "with open('penguins.csv', 'r', encoding='utf-8') as archivo:\n",
    "    linea = archivo.readline()\n",
    "    while linea:\n",
    "        campos = linea.strip().split(',')  # Divide por comas\n",
    "        print(campos)\n",
    "        linea = archivo.readline() "
   ]
  },
  {
   "cell_type": "markdown",
   "id": "f3b937ca",
   "metadata": {},
   "source": [
    "Cambiar a listas por columnas (Fabricio)"
   ]
  },
  {
   "cell_type": "code",
   "execution_count": null,
   "id": "0385854b",
   "metadata": {},
   "outputs": [],
   "source": [
    "with open('penguins.csv', 'r', encoding='utf-8') as archivo:\n",
    "    lineas = archivo.readlines()\n",
    "\n",
    "\n",
    "primera_linea = lineas[0].strip().split(',')\n",
    "datos = [linea.strip().split(',') for linea in lineas[1:]]\n",
    "\n",
    "\n",
    "# Mostrar columnas por nombre\n",
    "for i, nombre_columna in enumerate(primera_linea):\n",
    "    columna = [fila[i] for fila in datos]\n",
    "    print(f\"Columna '{nombre_columna}': {columna}\")"
   ]
  }
 ],
 "metadata": {
  "kernelspec": {
   "display_name": "Python 3",
   "language": "python",
   "name": "python3"
  },
  "language_info": {
   "name": "python",
   "version": "3.12.6"
  }
 },
 "nbformat": 4,
 "nbformat_minor": 5
}
